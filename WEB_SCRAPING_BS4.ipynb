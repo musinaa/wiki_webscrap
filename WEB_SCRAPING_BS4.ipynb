{
  "nbformat": 4,
  "nbformat_minor": 0,
  "metadata": {
    "colab": {
      "provenance": [],
      "authorship_tag": "ABX9TyNvsKR6UacBsw9XwKzITPGW",
      "include_colab_link": true
    },
    "kernelspec": {
      "name": "python3",
      "display_name": "Python 3"
    },
    "language_info": {
      "name": "python"
    }
  },
  "cells": [
    {
      "cell_type": "markdown",
      "metadata": {
        "id": "view-in-github",
        "colab_type": "text"
      },
      "source": [
        "<a href=\"https://colab.research.google.com/github/musinaa/wiki_webscrap/blob/main/WEB_SCRAPING_BS4.ipynb\" target=\"_parent\"><img src=\"https://colab.research.google.com/assets/colab-badge.svg\" alt=\"Open In Colab\"/></a>"
      ]
    },
    {
      "cell_type": "markdown",
      "source": [
        "IMPORTING THE PACKAGE"
      ],
      "metadata": {
        "id": "Z035GZ5BIli4"
      }
    },
    {
      "cell_type": "code",
      "execution_count": 1,
      "metadata": {
        "id": "9HVN-pFTGc0P"
      },
      "outputs": [],
      "source": [
        "import requests\n",
        "from bs4 import BeautifulSoup"
      ]
    },
    {
      "cell_type": "markdown",
      "source": [
        "MAKING A GET REQUEST"
      ],
      "metadata": {
        "id": "vJOjdJyqIqUJ"
      }
    },
    {
      "cell_type": "code",
      "source": [
        "base_site=\"https://en.wikipedia.org/wiki/Music\"\n",
        "response=requests.get(base_site)\n",
        "response"
      ],
      "metadata": {
        "colab": {
          "base_uri": "https://localhost:8080/"
        },
        "id": "klLtilukIpir",
        "outputId": "572c8850-b9e6-4b8a-feee-2d21e1c62687"
      },
      "execution_count": 2,
      "outputs": [
        {
          "output_type": "execute_result",
          "data": {
            "text/plain": [
              "<Response [200]>"
            ]
          },
          "metadata": {},
          "execution_count": 2
        }
      ]
    },
    {
      "cell_type": "code",
      "source": [
        "html=response.content\n",
        "html[:100]"
      ],
      "metadata": {
        "colab": {
          "base_uri": "https://localhost:8080/"
        },
        "id": "-T6oC7QaJLYK",
        "outputId": "90c1d8a4-0b44-411b-d377-9d38302882bb"
      },
      "execution_count": 3,
      "outputs": [
        {
          "output_type": "execute_result",
          "data": {
            "text/plain": [
              "b'<!DOCTYPE html>\\n<html class=\"client-nojs\" lang=\"en\" dir=\"ltr\">\\n<head>\\n<meta charset=\"UTF-8\"/>\\n<title'"
            ]
          },
          "metadata": {},
          "execution_count": 3
        }
      ]
    },
    {
      "cell_type": "markdown",
      "source": [
        "MAKING THE SOUP"
      ],
      "metadata": {
        "id": "x80RVOH1Jx9Y"
      }
    },
    {
      "cell_type": "code",
      "source": [
        "soup=BeautifulSoup(html, \"html.parser\")"
      ],
      "metadata": {
        "id": "QTJbwiw-JjpJ"
      },
      "execution_count": 4,
      "outputs": []
    },
    {
      "cell_type": "markdown",
      "source": [
        " EXPORTING HTML TO A FILE"
      ],
      "metadata": {
        "id": "bToox4sFKZsH"
      }
    },
    {
      "cell_type": "code",
      "source": [
        "with open('Wiki_response.html', 'wb') as file:\n",
        "  file.write(soup.prettify('utf-8'))\n",
        " "
      ],
      "metadata": {
        "id": "J0avtX-mKYZI"
      },
      "execution_count": 5,
      "outputs": []
    },
    {
      "cell_type": "markdown",
      "source": [
        "SEARCHING AND NAVIGATING HTML TREE"
      ],
      "metadata": {
        "id": "bXScqkUnLxxg"
      }
    },
    {
      "cell_type": "code",
      "source": [],
      "metadata": {
        "id": "tsk8faBdLvdh"
      },
      "execution_count": null,
      "outputs": []
    }
  ]
}